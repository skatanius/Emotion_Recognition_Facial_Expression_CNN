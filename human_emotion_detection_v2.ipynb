{
  "cells": [
    {
      "cell_type": "markdown",
      "metadata": {
        "id": "view-in-github",
        "colab_type": "text"
      },
      "source": [
        "<a href=\"https://colab.research.google.com/github/skatanius/Emotion_Recognition_Facial_Expression_CNN/blob/main/human_emotion_detection_v2.ipynb\" target=\"_parent\"><img src=\"https://colab.research.google.com/assets/colab-badge.svg\" alt=\"Open In Colab\"/></a>"
      ]
    },
    {
      "cell_type": "code",
      "source": [],
      "metadata": {
        "id": "XomA3dZjFLQ9"
      },
      "execution_count": null,
      "outputs": []
    },
    {
      "cell_type": "markdown",
      "metadata": {
        "jp-MarkdownHeadingCollapsed": true,
        "id": "uaAO4S70rNd7"
      },
      "source": [
        "# Einleitung"
      ]
    },
    {
      "cell_type": "markdown",
      "metadata": {
        "id": "120I6V0LrNd9"
      },
      "source": [
        "DE:\n",
        "Das Ziel dieses Projekts ist es, ein Deep-Learning-Modell zu entwickeln, das Gesichtsausdrücke präzise in eine von sieben Kategorien klassifizieren kann: **Wütend, Ekel, Angst, Glücklich, Traurig, Überraschung und Neutral**.\n",
        "\n",
        "Wir werden **Convolutional Neural Networks (CNNs) verwenden, da diese sich als effektiv bei Aufgaben der Bildklassifizierung erwiesen haben**. Unser Ansatz besteht darin, ein CNN-Modell von Grund auf mit dem FER-2013-Datensatz zu trainieren.\n",
        "\n",
        "EN:\n",
        "The goal of this project is to develop a deep learning model that can accurately classify facial expressions into one of seven categories: Angry, Disgust, Fear, Happy, Sad, Surprise, and Neutral. We will use convolutional neural networks (CNNs) to train our model, as they have been shown to be effective in image classification tasks. Our approach involves training a CNN model from scratch on the FER-2013 dataset\n",
        "\n",
        "![emotions.png](attachment:02a21be9-12eb-4595-a450-8414036bac30.png)\n",
        "\n"
      ]
    },
    {
      "cell_type": "markdown",
      "source": [
        "### Vorbereitung/Installationen"
      ],
      "metadata": {
        "id": "TPIiLE2ZFe2d"
      }
    },
    {
      "cell_type": "markdown",
      "source": [
        "Einmalig und nur für Google Colab:\n",
        "\n",
        "--> Google Drive in Colab einzubinden\n",
        "\n",
        "```\n",
        "from google.colab import drive\n",
        "drive.mount('/content/drive')\n",
        "```\n",
        "\n"
      ],
      "metadata": {
        "id": "tr78_U2yFNdw"
      }
    },
    {
      "cell_type": "markdown",
      "metadata": {
        "id": "h6_HHQQarNeA"
      },
      "source": [
        "## 💾 Data"
      ]
    },
    {
      "cell_type": "markdown",
      "metadata": {
        "id": "Im47jh5SrNeB"
      },
      "source": [
        "Das FER-2013-Dataset besteht aus 48x48 Pixel großen **Graustufenbildern** von Gesichtern, die automatisch so ausgerichtet wurden, dass sie **zentriert** sind und in jedem Bild eine **ähnliche Fläche** einnehmen. Das Dataset enthält 24.400 Bilder, wobei **22.968 Beispiele im Trainingssatz** und **1.432 Beispiele im öffentlichen Testsatz** enthalten sind."
      ]
    },
    {
      "cell_type": "markdown",
      "metadata": {
        "id": "p_N8Gk16rNeB"
      },
      "source": [
        "# Preprocessing"
      ]
    },
    {
      "cell_type": "markdown",
      "metadata": {
        "id": "icF5RNsOrNeC"
      },
      "source": [
        "In diesem Abschnitt werden wir sowohl **Daten-Generatoren** als auch **Daten-Augmentierung** verwenden, um ein **Deep-Learning-Modell** zur Erkennung menschlicher Emotionen mithilfe des FER-2013-Datensatzes zu trainieren.\n",
        "\n",
        "Aufgrund der Größe und Komplexität des Datensatzes wäre es unpraktisch, alle Bilder auf einmal in den Speicher zu laden. Daher werden wir **Daten-Generatoren** verwenden, um **während des Trainings Bilder in Batches zu generieren**, was es uns ermöglicht, unser Modell **effizient** auf dem gesamten Datensatz zu trainieren.\n",
        "\n",
        "\n",
        "\n",
        "Zusätzlich werden wir **verschiedene Techniken der Daten-Augmentierung** auf die Trainingsbilder anwenden, wie zum Beispiel **Rotation**, **Verschiebung** und **Spiegelung**. Dies wird dazu beitragen, die **Größe und Vielfalt unseres Trainingssatzes zu erhöhen**, was die Leistung unseres Deep-Learning-Modells verbessern kann.\n",
        "\n",
        "Durch das **Einführen von Variabilität** in den Trainingsprozess kann **die Daten-Augmentierung auch dazu beitragen, Overfitting zu verhindern**, das auftritt, wenn das Modell zu stark auf den Trainingssatz zugeschnitten ist und bei neuen, unbekannten Daten schlecht abschneidet."
      ]
    },
    {
      "cell_type": "code",
      "execution_count": 1,
      "metadata": {
        "colab": {
          "base_uri": "https://localhost:8080/"
        },
        "id": "TAMOfwXirNeD",
        "outputId": "0fd3b78d-3aca-4727-e0d2-78b18208e93a"
      },
      "outputs": [
        {
          "output_type": "stream",
          "name": "stdout",
          "text": [
            "Bibliotheken laden erfolgreich.\n"
          ]
        }
      ],
      "source": [
        "import os  # Bibliothek um mit dem Betriebssystem zu interagieren\n",
        "import tensorflow as tf  #Open-Source-Framework für maschinelles Lernen und Deep Learning\n",
        "from tensorflow.keras.preprocessing.image import ImageDataGenerator # importiert die Klasse ImageDataGenerator aus der Keras-Bibliothek in TensorFlow\n",
        "from tensorflow.keras.layers import Dense, Dropout, Flatten, Conv2D, MaxPooling2D, BatchNormalization # Importiert verschiedene Klassen aus Keras, die zum Erstellen von neuronalen Netzwerken verwendet werden\n",
        "from tensorflow.keras.models import Sequential # importiert die Klasse Sequential aus der tensorflow-Bibliothek tensorflow.keras.models, die verwendet wird, um ein sequentielles Modell in Keras zu erstellen.\n",
        "\n",
        "#os.chdir(os.path.dirname(os.path.abspath(__file__)))  # Setzt das Arbeitsverzeichnis auf das Verzeichnis des Skripts\n",
        "\n",
        "\n",
        "layer = Dense(10)  # Eine Dense-Schicht mit 10 Neuronen erstellen\n",
        "neuro = tf.keras.layers.Dense(10)\n",
        "\n",
        "print(\"Bibliotheken laden erfolgreich.\")"
      ]
    },
    {
      "cell_type": "code",
      "source": [
        "import tensorflow as tf\n",
        "print(tf.__version__)"
      ],
      "metadata": {
        "colab": {
          "base_uri": "https://localhost:8080/"
        },
        "id": "xKbVUyXfQvRo",
        "outputId": "894eded2-5a4a-42e1-ae7d-66155e2a899a"
      },
      "execution_count": 4,
      "outputs": [
        {
          "output_type": "stream",
          "name": "stdout",
          "text": [
            "2.17.0\n"
          ]
        }
      ]
    },
    {
      "cell_type": "markdown",
      "metadata": {
        "id": "YPDZHOGtrNeE"
      },
      "source": [
        "#### Erklärung\n",
        "\n",
        "Die Klasse **ImageDataGenerator()** erzeugt Bilddaten in Echtzeit und kann gleichzeitig verschiedene Vorverarbeitungsschritte oder Augmentierungen an diesen Daten vornehmen, während sie für das Training verwendet werden. Dadurch erhöht sie die Effizienz des Trainings, insbesondere bei großen Datensätzen, die nicht komplett in den Speicher passen."
      ]
    },
    {
      "cell_type": "code",
      "execution_count": 15,
      "metadata": {
        "colab": {
          "base_uri": "https://localhost:8080/",
          "height": 237
        },
        "id": "s1v1DAOprNeF",
        "outputId": "0b20083e-38cb-48c4-8987-3a66302f0005"
      },
      "outputs": [
        {
          "output_type": "error",
          "ename": "FileNotFoundError",
          "evalue": "[Errno 2] No such file or directory: '/content/drive/My Drive/Colab_Notebooks/Data_Analytics_Mimikerkennung/Training_Und_Test_Daten/test'",
          "traceback": [
            "\u001b[0;31m---------------------------------------------------------------------------\u001b[0m",
            "\u001b[0;31mFileNotFoundError\u001b[0m                         Traceback (most recent call last)",
            "\u001b[0;32m<ipython-input-15-60d9ced055a8>\u001b[0m in \u001b[0;36m<cell line: 9>\u001b[0;34m()\u001b[0m\n\u001b[1;32m      7\u001b[0m \u001b[0mtest_dir\u001b[0m \u001b[0;34m=\u001b[0m \u001b[0;34mf\"{base_dir}/test\"\u001b[0m  \u001b[0;31m# Directory containing the validation data\u001b[0m\u001b[0;34m\u001b[0m\u001b[0;34m\u001b[0m\u001b[0m\n\u001b[1;32m      8\u001b[0m \u001b[0;34m\u001b[0m\u001b[0m\n\u001b[0;32m----> 9\u001b[0;31m \u001b[0mprint\u001b[0m\u001b[0;34m(\u001b[0m\u001b[0mos\u001b[0m\u001b[0;34m.\u001b[0m\u001b[0mlistdir\u001b[0m\u001b[0;34m(\u001b[0m\u001b[0mtest_dir\u001b[0m\u001b[0;34m)\u001b[0m\u001b[0;34m)\u001b[0m\u001b[0;34m\u001b[0m\u001b[0;34m\u001b[0m\u001b[0m\n\u001b[0m\u001b[1;32m     10\u001b[0m \u001b[0mprint\u001b[0m\u001b[0;34m(\u001b[0m\u001b[0mtrain_dir\u001b[0m\u001b[0;34m)\u001b[0m\u001b[0;34m\u001b[0m\u001b[0;34m\u001b[0m\u001b[0m\n\u001b[1;32m     11\u001b[0m \u001b[0mprint\u001b[0m\u001b[0;34m(\u001b[0m\u001b[0mtest_dir\u001b[0m\u001b[0;34m)\u001b[0m\u001b[0;34m\u001b[0m\u001b[0;34m\u001b[0m\u001b[0m\n",
            "\u001b[0;31mFileNotFoundError\u001b[0m: [Errno 2] No such file or directory: '/content/drive/My Drive/Colab_Notebooks/Data_Analytics_Mimikerkennung/Training_Und_Test_Daten/test'"
          ]
        }
      ],
      "source": [
        "#train_dir = \"./Training_Und_Test_Daten/train\" # Directory containing the training data\n",
        "#test_dir = \"./Training_Und_Test_Daten/test\"  # Directory containing the validation data\n",
        "\n",
        "base_dir = \"/content/drive/My Drive/Colab_Notebooks/Data_Analytics_Mimikerkennung/Training_Und_Test_Daten\"\n",
        "\n",
        "train_dir = f\"{base_dir}/train\" # Directory containing the training data\n",
        "test_dir = f\"{base_dir}/test\"  # Directory containing the validation data\n",
        "\n",
        "print(os.listdir(test_dir))\n",
        "print(train_dir)\n",
        "print(test_dir)\n",
        "print(\"Definition der Datenpfade erfolgreich.\")"
      ]
    },
    {
      "cell_type": "code",
      "execution_count": 12,
      "metadata": {
        "colab": {
          "base_uri": "https://localhost:8080/"
        },
        "id": "_L-IWnlirNeF",
        "outputId": "c0cbc1c4-a759-4c39-91a4-db28ff3b15f4"
      },
      "outputs": [
        {
          "output_type": "stream",
          "name": "stdout",
          "text": [
            "Erfolgreiche Definition des Image-Generators für Trainingsdaten,\n",
            "um aus bestehenden Bildern Abänderungen zu generieren und damit\n",
            "noch mehr Trainingsdaten zu erzeugen.\n"
          ]
        }
      ],
      "source": [
        "train_datagen = ImageDataGenerator(\n",
        "    width_shift_range = 0.1,        # Zufälliges Verschieben der Breite von Bildern um bis zu 10%\n",
        "    height_shift_range = 0.1,       # Zufälliges Verschieben der Höhe von Bildern um bis zu 10%\n",
        "    horizontal_flip = True,         # Zufälliges horizontales Spiegeln der Bilder\n",
        "    rescale = 1./255,               # Skalieren der Pixelwerte auf einen Bereich zwischen 0 und 1\n",
        "    validation_split = 0.2          # 20% der Daten für die Validierung zurücklegen\n",
        ")\n",
        "\n",
        "validation_datagen = ImageDataGenerator(\n",
        "    rescale = 1./255,               # Skalieren der Pixelwerte auf einen Bereich zwischen 0 und 1\n",
        "    validation_split = 0.2          # 20% der Daten für die Validierung zurücklegen\n",
        ")\n",
        "\n",
        "print(\"\"\"Erfolgreiche Definition des Image-Generators für Trainingsdaten,\n",
        "um aus bestehenden Bildern Abänderungen zu generieren und damit\n",
        "noch mehr Trainingsdaten zu erzeugen.\"\"\")"
      ]
    },
    {
      "cell_type": "markdown",
      "metadata": {
        "jp-MarkdownHeadingCollapsed": true,
        "id": "vQGNcBSNrNeG"
      },
      "source": [
        "### Weitere Definieren des Trainingsdaten-Generators\n",
        "\n",
        "- Trainingsdaten Generator\n",
        "- Validierungsdaten-Generator"
      ]
    },
    {
      "cell_type": "code",
      "execution_count": 14,
      "metadata": {
        "colab": {
          "base_uri": "https://localhost:8080/",
          "height": 478
        },
        "id": "E6xd45M0rNeG",
        "outputId": "7e2eec2a-aa67-4389-973c-44fa108b59f5"
      },
      "outputs": [
        {
          "output_type": "error",
          "ename": "FileNotFoundError",
          "evalue": "[Errno 2] No such file or directory: '/content/drive/My Drive/Colab_Notebooks/Data_Analytics_Mimikerkennung/Training_Und_Test_Daten/train'",
          "traceback": [
            "\u001b[0;31m---------------------------------------------------------------------------\u001b[0m",
            "\u001b[0;31mFileNotFoundError\u001b[0m                         Traceback (most recent call last)",
            "\u001b[0;32m<ipython-input-14-be3bd8d7b4ae>\u001b[0m in \u001b[0;36m<cell line: 1>\u001b[0;34m()\u001b[0m\n\u001b[0;32m----> 1\u001b[0;31m train_generator = train_datagen.flow_from_directory(\n\u001b[0m\u001b[1;32m      2\u001b[0m     \u001b[0mdirectory\u001b[0m \u001b[0;34m=\u001b[0m \u001b[0mtrain_dir\u001b[0m\u001b[0;34m,\u001b[0m           \u001b[0;31m# Directory containing the training data\u001b[0m\u001b[0;34m\u001b[0m\u001b[0;34m\u001b[0m\u001b[0m\n\u001b[1;32m      3\u001b[0m     \u001b[0mtarget_size\u001b[0m \u001b[0;34m=\u001b[0m \u001b[0;34m(\u001b[0m\u001b[0;36m48\u001b[0m\u001b[0;34m,\u001b[0m \u001b[0;36m48\u001b[0m\u001b[0;34m)\u001b[0m\u001b[0;34m,\u001b[0m          \u001b[0;31m# Resizes all images to 48x48 pixels\u001b[0m\u001b[0;34m\u001b[0m\u001b[0;34m\u001b[0m\u001b[0m\n\u001b[1;32m      4\u001b[0m     \u001b[0mbatch_size\u001b[0m \u001b[0;34m=\u001b[0m \u001b[0;36m64\u001b[0m\u001b[0;34m,\u001b[0m                 \u001b[0;31m# Number of images per batch (Anzahl der Bilder, die in einem Schritt des Trainingsprozesses in das neuronale Netzwerk eingegeben werden)\u001b[0m\u001b[0;34m\u001b[0m\u001b[0;34m\u001b[0m\u001b[0m\n\u001b[1;32m      5\u001b[0m     \u001b[0mcolor_mode\u001b[0m \u001b[0;34m=\u001b[0m \u001b[0;34m\"grayscale\"\u001b[0m\u001b[0;34m,\u001b[0m        \u001b[0;31m# Converts the images to grayscale\u001b[0m\u001b[0;34m\u001b[0m\u001b[0;34m\u001b[0m\u001b[0m\n",
            "\u001b[0;32m/usr/local/lib/python3.10/dist-packages/keras/src/legacy/preprocessing/image.py\u001b[0m in \u001b[0;36mflow_from_directory\u001b[0;34m(self, directory, target_size, color_mode, classes, class_mode, batch_size, shuffle, seed, save_to_dir, save_prefix, save_format, follow_links, subset, interpolation, keep_aspect_ratio)\u001b[0m\n\u001b[1;32m   1136\u001b[0m         \u001b[0mkeep_aspect_ratio\u001b[0m\u001b[0;34m=\u001b[0m\u001b[0;32mFalse\u001b[0m\u001b[0;34m,\u001b[0m\u001b[0;34m\u001b[0m\u001b[0;34m\u001b[0m\u001b[0m\n\u001b[1;32m   1137\u001b[0m     ):\n\u001b[0;32m-> 1138\u001b[0;31m         return DirectoryIterator(\n\u001b[0m\u001b[1;32m   1139\u001b[0m             \u001b[0mdirectory\u001b[0m\u001b[0;34m,\u001b[0m\u001b[0;34m\u001b[0m\u001b[0;34m\u001b[0m\u001b[0m\n\u001b[1;32m   1140\u001b[0m             \u001b[0mself\u001b[0m\u001b[0;34m,\u001b[0m\u001b[0;34m\u001b[0m\u001b[0;34m\u001b[0m\u001b[0m\n",
            "\u001b[0;32m/usr/local/lib/python3.10/dist-packages/keras/src/legacy/preprocessing/image.py\u001b[0m in \u001b[0;36m__init__\u001b[0;34m(self, directory, image_data_generator, target_size, color_mode, classes, class_mode, batch_size, shuffle, seed, data_format, save_to_dir, save_prefix, save_format, follow_links, subset, interpolation, keep_aspect_ratio, dtype)\u001b[0m\n\u001b[1;32m    451\u001b[0m         \u001b[0;32mif\u001b[0m \u001b[0;32mnot\u001b[0m \u001b[0mclasses\u001b[0m\u001b[0;34m:\u001b[0m\u001b[0;34m\u001b[0m\u001b[0;34m\u001b[0m\u001b[0m\n\u001b[1;32m    452\u001b[0m             \u001b[0mclasses\u001b[0m \u001b[0;34m=\u001b[0m \u001b[0;34m[\u001b[0m\u001b[0;34m]\u001b[0m\u001b[0;34m\u001b[0m\u001b[0;34m\u001b[0m\u001b[0m\n\u001b[0;32m--> 453\u001b[0;31m             \u001b[0;32mfor\u001b[0m \u001b[0msubdir\u001b[0m \u001b[0;32min\u001b[0m \u001b[0msorted\u001b[0m\u001b[0;34m(\u001b[0m\u001b[0mos\u001b[0m\u001b[0;34m.\u001b[0m\u001b[0mlistdir\u001b[0m\u001b[0;34m(\u001b[0m\u001b[0mdirectory\u001b[0m\u001b[0;34m)\u001b[0m\u001b[0;34m)\u001b[0m\u001b[0;34m:\u001b[0m\u001b[0;34m\u001b[0m\u001b[0;34m\u001b[0m\u001b[0m\n\u001b[0m\u001b[1;32m    454\u001b[0m                 \u001b[0;32mif\u001b[0m \u001b[0mos\u001b[0m\u001b[0;34m.\u001b[0m\u001b[0mpath\u001b[0m\u001b[0;34m.\u001b[0m\u001b[0misdir\u001b[0m\u001b[0;34m(\u001b[0m\u001b[0mos\u001b[0m\u001b[0;34m.\u001b[0m\u001b[0mpath\u001b[0m\u001b[0;34m.\u001b[0m\u001b[0mjoin\u001b[0m\u001b[0;34m(\u001b[0m\u001b[0mdirectory\u001b[0m\u001b[0;34m,\u001b[0m \u001b[0msubdir\u001b[0m\u001b[0;34m)\u001b[0m\u001b[0;34m)\u001b[0m\u001b[0;34m:\u001b[0m\u001b[0;34m\u001b[0m\u001b[0;34m\u001b[0m\u001b[0m\n\u001b[1;32m    455\u001b[0m                     \u001b[0mclasses\u001b[0m\u001b[0;34m.\u001b[0m\u001b[0mappend\u001b[0m\u001b[0;34m(\u001b[0m\u001b[0msubdir\u001b[0m\u001b[0;34m)\u001b[0m\u001b[0;34m\u001b[0m\u001b[0;34m\u001b[0m\u001b[0m\n",
            "\u001b[0;31mFileNotFoundError\u001b[0m: [Errno 2] No such file or directory: '/content/drive/My Drive/Colab_Notebooks/Data_Analytics_Mimikerkennung/Training_Und_Test_Daten/train'"
          ]
        }
      ],
      "source": [
        "train_generator = train_datagen.flow_from_directory(\n",
        "    directory = train_dir,           # Directory containing the training data\n",
        "    target_size = (48, 48),          # Resizes all images to 48x48 pixels\n",
        "    batch_size = 64,                 # Number of images per batch (Anzahl der Bilder, die in einem Schritt des Trainingsprozesses in das neuronale Netzwerk eingegeben werden)\n",
        "    color_mode = \"grayscale\",        # Converts the images to grayscale\n",
        "    class_mode = \"categorical\",      # Classifies the images into categories\n",
        "    subset = \"training\"              # Uses the training subset of the data\n",
        ")\n",
        "\n",
        "validation_generator = validation_datagen.flow_from_directory(\n",
        "    directory = test_dir,            # Directory containing the validation data\n",
        "    target_size = (48, 48),          # Resizes all images to 48x48 pixels\n",
        "    batch_size = 64,                 # Number of images per batch\n",
        "    color_mode = \"grayscale\",        # Converts the images to grayscale\n",
        "    class_mode = \"categorical\",      # Classifies the images into 7 categories\n",
        "    subset = \"validation\"            # Uses the validation subset of the data\n",
        ")\n",
        "print(\"\")\n",
        "print(\"Bilddaten erfolgreich geladen und für Training des neuronalen Netzwerks vorbereitet!\")\n",
        "\n",
        "#Erklärung:\n",
        "#Die Methode train_datagen.flow_from_directory() wird verwendet,\n",
        "#um Bilddaten aus einem Verzeichnis zu laden und sie gleichzeitig\n",
        "#für das Training eines neuronalen Netzwerks vorzubereiten.\n",
        "\n",
        "#Sie ist Teil der ImageDataGenerator-Klasse in Keras und ermöglicht das effiziente Laden,\n",
        "#Vorverarbeiten und Augmentieren von Bilddaten in Echtzeit während des Trainings.\"\n"
      ]
    },
    {
      "cell_type": "markdown",
      "metadata": {
        "jp-MarkdownHeadingCollapsed": true,
        "id": "rVlQ4T-BrNeH"
      },
      "source": [
        "## Erklärung: Zu Parametern der Methode *train_datagen.flow_from_directory()*"
      ]
    },
    {
      "cell_type": "markdown",
      "metadata": {
        "jp-MarkdownHeadingCollapsed": true,
        "id": "8FXat_J-rNeH"
      },
      "source": [
        "### Info zum Parameter *Batch*:"
      ]
    },
    {
      "cell_type": "markdown",
      "metadata": {
        "id": "ah147rt7rNeH"
      },
      "source": [
        "Ein Batch ist eine **Untergruppe** des gesamten Datensatzes, die verwendet wird, um das Modell in einem Durchlauf (Iteration) zu trainieren. Statt das gesamte Dataset auf einmal durch das neuronale Netzwerk zu schicken (was sehr ressourcenintensiv wäre), wird der Datensatz in kleinere Gruppen (Batches) aufget\n",
        "\n",
        "Warum wird ein Batch verwendet?\n",
        "\n",
        "**Effizienz**: Es wäre sehr aufwendig, das Netzwerk nach jedem einzelnen Bild zu aktualisieren (dies wird als **\"stochastic gradient descent\"** bezeichnet). Ebenso wäre es ineffizient, das gesamte Dataset auf einmal zu verarbeiten (dies wird \"batch gradient descent\" genannt).\n",
        "\n",
        "**Speichereinschränkungen**: Das Laden und Verarbeiten des gesamten Datensatzes auf einmal kann den Arbeitsspeicher **überlasten**, besonders bei großen Datensätzen. Durch das Aufteilen in Batches können Teile des Datensatzes nach und nach verarbeitet werden.\n",
        "\n",
        "**Regulierung und Stabilität**: Ein Batch-Training bietet eine Balance zwischen der extremen Volatilität des stochastischen Gradientenabstiegs (Bild-für-Bild-Training) und der Trägheit des Batch-Gradientenabstiegs (gesamter Datensatz). Das hilft, die Genauigkeit und Stabilität des Trainings zu verbessern.\n",
        "\n",
        "**Typischer Ablauf bei Batch-Verwendung:**\n",
        "- Ein Batch (z.B. 64 Bilder) wird an das Modell übergeben.\n",
        "- Das Modell berechnet die Ausgabe und die Verluste für diesen Batch.\n",
        "- Die Gewichte des Modells werden basierend auf dem durchschnittlichen Verlust für diesen Batch aktualisiert."
      ]
    },
    {
      "cell_type": "markdown",
      "metadata": {
        "id": "TtlGx0jIrNeH"
      },
      "source": [
        "### Info zum Parameter *class_mode*"
      ]
    },
    {
      "cell_type": "markdown",
      "metadata": {
        "id": "IhjrllClrNeH"
      },
      "source": [
        "- Der Parameter weist das Modell an, die Bilder in eine von mehreren Kategorien zu klassifizieren, wobei die Anzahl der Kategorien durch die Anzahl der Unterordner im Verzeichnis festgelegt wird.\n",
        "- class_mode=\"categorical\" bedeutet, dass die Labels für die Bilder in verschiedene Kategorien fallen und als One-Hot-Encoding dargestellt werden. Jedes Bild gehört dabei genau einer Kategorie an.\n",
        "\n",
        "\n",
        "Es verwendet zum Klassifizieren eine One-Hot-Encoding-Darstellung der Labels:\n",
        "- One-Hot-Encoding ist eine Methode, um kategorische Labels in numerische Vektoren zu konvertieren, bei denen genau eine Position eine \"1\" ist und die anderen \"0\".\n",
        "- Es wird in maschinellem Lernen häufig verwendet, um kategorische Daten in eine Form zu bringen, die von Modellen wie neuronalen Netzwerken verarbeitet werden kann.\n",
        "- Es vermeidet, dass das Modell irrtümlich eine Rangfolge zwischen den Klassen interpretiert."
      ]
    },
    {
      "cell_type": "markdown",
      "metadata": {
        "id": "H76B4Yf1rNeI"
      },
      "source": [
        "# Modeling\n",
        "<span style=\"background-color: #ffdddd;\"></span>"
      ]
    },
    {
      "cell_type": "code",
      "source": [
        "<img src=\"CNN_Grafik.jpg\"></img>"
      ],
      "metadata": {
        "colab": {
          "base_uri": "https://localhost:8080/",
          "height": 110
        },
        "id": "wafTe74aCPV3",
        "outputId": "ca9274c3-fff7-49b2-876a-23bffe691a32"
      },
      "execution_count": 10,
      "outputs": [
        {
          "output_type": "error",
          "ename": "SyntaxError",
          "evalue": "invalid syntax (<ipython-input-10-5f3b17842c66>, line 1)",
          "traceback": [
            "\u001b[0;36m  File \u001b[0;32m\"<ipython-input-10-5f3b17842c66>\"\u001b[0;36m, line \u001b[0;32m1\u001b[0m\n\u001b[0;31m    <img src=\"CNN_Grafik.jpg\"></img>\u001b[0m\n\u001b[0m    ^\u001b[0m\n\u001b[0;31mSyntaxError\u001b[0m\u001b[0;31m:\u001b[0m invalid syntax\n"
          ]
        }
      ]
    },
    {
      "cell_type": "markdown",
      "source": [],
      "metadata": {
        "id": "_YZR2yKqCrDu"
      }
    },
    {
      "cell_type": "markdown",
      "metadata": {
        "id": "Lldtrz_LrNeI"
      },
      "source": [
        "## CNN Model"
      ]
    },
    {
      "cell_type": "markdown",
      "metadata": {
        "jp-MarkdownHeadingCollapsed": true,
        "id": "s8vX4_uNrNeI"
      },
      "source": [
        "### Erklärung: CNN = Convolutional Neural Network (auf Deutsch: **Faltungsneuronales Netzwerk**)"
      ]
    },
    {
      "cell_type": "markdown",
      "metadata": {
        "id": "F7DaKt6ErNeI"
      },
      "source": [
        "DE:\n",
        "- Um die CNN-Architektur zu entwickeln, beginnen wir mit der **Definition der Eingabeschicht** und der **Anzahl der Filter** in der ersten Faltungsschicht. Anschließend fügen wir **weitere Faltungsschichten mit einer zunehmenden Anzahl von Filtern** hinzu, gefolgt von **Max-Pooling-Schichten**, um die räumlichen Dimensionen der Merkmalskarten zu reduzieren.\n",
        "\n",
        "Nach den Faltungsschichten werden wir vollständig verbundene Schichten mit **ReLU-Aktivierung** hinzufügen, um die Emotionen zu klassifizieren.\n",
        "\n",
        "- Wir werden mit verschiedenen Anzahlen von **Faltungsschichten, Filtergrößen und vollständig verbundenen Schichten** experimentieren, um die Leistung des Modells zu optimieren. Zusätzlich verwenden wir Techniken wie **Dropout und Batch-Normalisierung**, um Overfitting zu verhindern und die Generalisierungsfähigkeit des Modells zu verbessern.\n",
        "\n",
        "EN:\n",
        "- To develop the CNN architecture, we will begin by defining the input layer and the number of filters in the first convolutional layer. Then, we will add additional convolutional layers with increasing numbers of filters, followed by max-pooling layers to reduce the spatial dimensions of the feature maps. After the convolutional layers, we will add fully connected layers with ReLU activation to classify the emotions.\n",
        "- We will experiment with different numbers of convolutional layers, filter sizes, and fully connected layers to optimize the model performance. Additionally, we will use techniques such as dropout and batch normalization to prevent overfitting and improve the generalization capability of the model."
      ]
    },
    {
      "cell_type": "markdown",
      "metadata": {
        "jp-MarkdownHeadingCollapsed": true,
        "id": "bnmAVn4-rNeI"
      },
      "source": [
        "### Define the model architecture:"
      ]
    },
    {
      "cell_type": "markdown",
      "metadata": {
        "id": "C4B_p7hFrNeI"
      },
      "source": [
        "**Sequential-Modell**\n",
        "\n",
        "Ein Sequential-Modell ermöglicht das Stapeln von Schichten in einer linearen Reihenfolge (nacheinander), was nützlich ist, wenn das Modell Schicht für Schicht aufgebaut werden soll.\n",
        "\n",
        "Dieser Code definiert die Architektur eines **Convolutional Neural Networks (CNN) für die Bildverarbeitung**. Es handelt sich um ein **tiefes neuronales Netzwerk** bzw. einem **Sequential-Modell mit 6 Faltungsschichten (Convolutional Layers), 6 Batch-Normalisierung,3  Max-Pooling und 3 Dropout-Schichten**.\n",
        "\n",
        "Das Ziel dieser Architektur ist es, Merkmale aus Bildern zu extrahieren und gleichzeitig Überanpassung (Overfitting) zu vermeiden, indem die Modellkomplexität durch Batch-Normalisierung und Dropout reduziert wird.\n",
        "\n",
        "\n",
        "Dieses Modell ist eine typische CNN-Architektur, die für die Verarbeitung von Bilddaten verwendet wird.\n",
        "\n",
        "- Die Schichtenkombination von Faltungsschichten (zur Extraktion von Bildmerkmalen),\n",
        "- Batch-Normalisierung (zur Normalisierung und Stabilisierung des Trainings),\n",
        "- Max-Pooling (zur Reduktion der räumlichen Dimensionen) und\n",
        "- Dropout (zur Verhinderung von Overfitting)\n",
        "\n",
        "führt zu einem leistungsfähigen Modell, das in der Lage ist, Bilder effizient zu klassifizieren."
      ]
    },
    {
      "cell_type": "code",
      "execution_count": null,
      "metadata": {
        "id": "7q61_KP0rNeJ",
        "outputId": "fd64a890-1ce2-44f5-c12e-1abeedc32777"
      },
      "outputs": [
        {
          "name": "stdout",
          "output_type": "stream",
          "text": [
            "neuronalen Netzwerks definiert!\n"
          ]
        }
      ],
      "source": [
        "# Define the model architecture\n",
        "# (from tensorflow.keras.models import Sequential)\n",
        "from tensorflow.keras.layers import Input\n",
        "\n",
        "model = Sequential()\n",
        "\n",
        "model.add(Input(shape=(48, 48, 1)))\n",
        "\n",
        "# Add a convolutional layer with 32 filters, 3x3 kernel size, and relu activation function\n",
        "model.add(Conv2D(32, kernel_size=(3, 3), activation='relu'))\n",
        "\n",
        "# Add a batch normalization layer\n",
        "model.add(BatchNormalization())\n",
        "\n",
        "# Add a second convolutional layer with 64 filters, 3x3 kernel size, and relu activation function\n",
        "model.add(Conv2D(64, kernel_size=(3, 3), activation='relu'))\n",
        "\n",
        "# Add a second batch normalization layer\n",
        "model.add(BatchNormalization())\n",
        "\n",
        "# Add a max pooling layer with 2x2 pool size\n",
        "model.add(MaxPooling2D(pool_size=(2, 2)))\n",
        "\n",
        "# Add a dropout layer with 0.25 dropout rate\n",
        "model.add(Dropout(0.25))\n",
        "\n",
        "# Add a third convolutional layer with 128 filters, 3x3 kernel size, and relu activation function\n",
        "model.add(Conv2D(128, kernel_size=(3, 3), activation='relu'))\n",
        "\n",
        "# Add a third batch normalization layer\n",
        "model.add(BatchNormalization())\n",
        "\n",
        "#4\n",
        "# Add a fourth convolutional layer with 128 filters, 3x3 kernel size, and relu activation function\n",
        "model.add(Conv2D(128, kernel_size=(3, 3), activation='relu'))\n",
        "\n",
        "# Add a fourth batch normalization layer\n",
        "model.add(BatchNormalization())\n",
        "# Add a max pooling layer with 2x2 pool size\n",
        "model.add(MaxPooling2D(pool_size=(2, 2)))\n",
        "# Add a dropout layer with 0.25 dropout rate\n",
        "model.add(Dropout(0.25))\n",
        "\n",
        "# Add a fifth convolutional layer with 256 filters, 3x3 kernel size, and relu activation function\n",
        "model.add(Conv2D(256, kernel_size=(3, 3), activation='relu'))\n",
        "# Add a fifth batch normalization layer\n",
        "model.add(BatchNormalization())\n",
        "\n",
        "# Add a sixth convolutional layer with 256 filters, 3x3 kernel size, and relu activation function\n",
        "model.add(Conv2D(256, kernel_size=(3, 3), activation='relu'))\n",
        "# Add a sixth batch normalization layer\n",
        "model.add(BatchNormalization())\n",
        "# Add a max pooling layer with 2x2 pool size\n",
        "model.add(MaxPooling2D(pool_size=(2, 2)))\n",
        "# Add a dropout layer with 0.25 dropout rate\n",
        "model.add(Dropout(0.25))\n",
        "\n",
        "\n",
        "print(\"neuronalen Netzwerks definiert!\")"
      ]
    },
    {
      "cell_type": "raw",
      "metadata": {
        "id": "wBUCPV9prNeJ"
      },
      "source": [
        "model = Sequential()\n",
        "Ein Sequential-Modell wird erstellt, das bedeutet, dass die **Schichten nacheinander (in einer linearen Reihenfolge) hinzugefügt werden.**\n",
        "\n",
        "1.\n",
        "Erste Faltungsschicht (Conv2D) mit 32 Filtern:\n",
        "model.add(Conv2D(32, kernel_size=(3, 3), activation='relu', input_shape=(48,48,1)))\n",
        "- Eine Faltungsschicht (Convolutional Layer) mit 32 Filtern und einer 3x3 Kernelgröße wird hinzugefügt.\n",
        "- Die Aktivierungsfunktion ist ReLU (Rectified Linear Unit), die nicht-lineare Merkmale lernt.\n",
        "- input_shape=(48,48,1) bedeutet, dass die Eingabebilder eine Größe von 48x48 Pixel haben und grau sind (1 Kanal, da es sich um Graustufenbilder handelt).\n",
        "\n",
        "b)\n",
        "Batch-Normalisierungsschicht:\n",
        "model.add(BatchNormalization())\n",
        "- Eine Batch-Normalisierungsschicht wird hinzugefügt, um den Lernprozess zu stabilisieren, indem die Ausgabe der vorherigen Schicht normalisiert wird. Dies beschleunigt das Training und verbessert die Genauigkeit.\n",
        "\n",
        "2.\n",
        "Zweite Faltungsschicht (Conv2D) mit 64 Filtern:\n",
        "model.add(Conv2D(64, kernel_size=(3, 3), activation='relu'))\n",
        "- Eine weitere Faltungsschicht mit 64 Filtern und 3x3 Kernelgröße wird hinzugefügt.\n",
        "- Wieder wird ReLU als Aktivierungsfunktion verwendet.\n",
        "\n",
        "b)b)\n",
        "Zweite Batch-Normalisierungsschicht:\n",
        "model.add(BatchNormalization())\n",
        "Eine zweite Batch-Normalisierungsschicht, um die Ausgabe zu normalisieren und das Training stabiler zu machen.\n",
        "\n",
        "P)\n",
        "Max-Pooling-Schicht:\n",
        "model.add(MaxPooling2D(pool_size=(2, 2)))\n",
        "- Eine Max-Pooling-Schicht, die die Größe der Feature-Maps durch die Auswahl der maximalen Werte in 2x2 Regionen reduziert.\n",
        "- Dies verringert die räumlichen Dimensionen und fokussiert sich auf die wichtigsten Merkmale.\n",
        "\n",
        "D)\n",
        "Dropout-Schicht:\n",
        "model.add(Dropout(0.25))\n",
        "- Eine Dropout-Schicht, die während des Trainings **zufällig 25% der Neuronen deaktiviert**, um Overfitting zu vermeiden und die Generalisierungsfähigkeit zu verbessern.\n",
        "\n",
        "3.\n",
        "Dritte Faltungsschicht (Conv2D) mit 128 Filtern:\n",
        "model.add(Conv2D(128, kernel_size=(3, 3), activation='relu'))\n",
        "- Eine dritte Faltungsschicht mit 128 Filtern und ReLU-Aktivierung.\n",
        "\n",
        "b)b)b)\n",
        "Dritte Batch-Normalisierungsschicht:\n",
        "model.add(BatchNormalization())\n",
        "Die Ausgabe der dritten Faltungsschicht wird erneut normalisiert.\n",
        "\n",
        "4.\n",
        "Vierte Faltungsschicht (Conv2D) mit 128 Filtern:\n",
        "model.add(Conv2D(128, kernel_size=(3, 3), activation='relu'))\n",
        "Eine vierte Faltungsschicht mit 128 Filtern.\n",
        "\n",
        "b)b)b)b)\n",
        "Vierte Batch-Normalisierungsschicht:\n",
        "model.add(BatchNormalization())\n",
        "- Die Ausgabe der vierten Faltungsschicht wird normalisiert.\n",
        "\n",
        "P)P)\n",
        "Zweite Max-Pooling-Schicht:\n",
        "model.add(MaxPooling2D(pool_size=(2, 2)))\n",
        "- Eine weitere Max-Pooling-Schicht reduziert die räumlichen Dimensionen der Feature-Maps erneut.\n",
        "\n",
        "D)D)\n",
        "Zweite Dropout-Schicht:\n",
        "model.add(Dropout(0.25))\n",
        "- Eine zweite Dropout-Schicht deaktiviert wieder 25% der Neuronen, um Overfitting zu verhindern.\n",
        "\n",
        "5.\n",
        "Fünfte Faltungsschicht (Conv2D) mit 256 Filtern:\n",
        "model.add(Conv2D(256, kernel_size=(3, 3), activation='relu'))\n",
        "- Eine fünfte Faltungsschicht mit 256 Filtern.\n",
        "\n",
        "b)b)b)b)b)\n",
        "Fünfte Batch-Normalisierungsschicht:\n",
        "model.add(BatchNormalization())\n",
        "- Eine weitere Batch-Normalisierungsschicht, um die Ausgabe zu stabilisieren.\n",
        "\n",
        "6.\n",
        "Sechste Faltungsschicht (Conv2D) mit 256 Filtern:\n",
        "model.add(Conv2D(256, kernel_size=(3, 3), activation='relu'))\n",
        "- Eine sechste Faltungsschicht mit 256 Filtern.\n",
        "\n",
        "b)b)b)b)b)b)\n",
        "Sechste Batch-Normalisierungsschicht:\n",
        "model.add(BatchNormalization())\n",
        "- Die Ausgabe wird normalisiert.\n",
        "\n",
        "P)P)P)\n",
        "Dritte Max-Pooling-Schicht:\n",
        "model.add(MaxPooling2D(pool_size=(2, 2)))\n",
        "- Eine weitere Max-Pooling-Schicht reduziert die räumlichen Dimensionen weiter.\n",
        "\n",
        "D)D)D)\n",
        "Dritte Dropout-Schicht:\n",
        "model.add(Dropout(0.25))\n",
        "- Eine dritte Dropout-Schicht, die 25% der Neuronen deaktiviert, um Overfitting zu vermeiden.\n",
        "\n",
        "\n",
        "\n",
        "Fazit:\n",
        "Dieses Modell ist eine typische CNN-Architektur, die für die Verarbeitung von Bilddaten verwendet wird.\n",
        "\n",
        "- Die Schichtenkombination von Faltungsschichten (zur Extraktion von Bildmerkmalen),\n",
        "- Batch-Normalisierung (zur Normalisierung und Stabilisierung des Trainings),\n",
        "- Max-Pooling (zur Reduktion der räumlichen Dimensionen) und\n",
        "- Dropout (zur Verhinderung von Overfitting)\n",
        "\n",
        "führt zu einem leistungsfähigen Modell, das in der Lage ist, Bilder effizient zu klassifizieren."
      ]
    },
    {
      "cell_type": "markdown",
      "metadata": {
        "jp-MarkdownHeadingCollapsed": true,
        "id": "we8W0iwRrNeK"
      },
      "source": [
        "### Draw the CNN"
      ]
    },
    {
      "cell_type": "code",
      "execution_count": null,
      "metadata": {
        "id": "R6RFrwyYrNeL",
        "outputId": "9b3d1f06-b856-46f6-b348-bfb6f9280d2a"
      },
      "outputs": [
        {
          "data": {
            "image/png": "[encoded data removed]",
            "text/plain": [
              "<IPython.core.display.Image object>"
            ]
          },
          "execution_count": 6,
          "metadata": {},
          "output_type": "execute_result"
        }
      ],
      "source": [
        "from tensorflow.keras.utils import plot_model\n",
        "plot_model(model, to_file='model.png', show_shapes=True, dpi=96)\n"
      ]
    },
    {
      "cell_type": "markdown",
      "metadata": {
        "jp-MarkdownHeadingCollapsed": true,
        "id": "8RSen_lnrNeL"
      },
      "source": [
        "### Umwandlung der Faltungsschichten --> in vollständig verbundene Schichten (Dense Layers)"
      ]
    },
    {
      "cell_type": "markdown",
      "metadata": {
        "id": "bt8Op0b_rNeM"
      },
      "source": [
        "Folgender Codeblock fügt dem neuronalen Netzwerk zusätzliche Schichten hinzu, um die Ausgabe der vorherigen Faltungsschichten in vollständig verbundene Schichten (Dense Layers) zu überführen.\n",
        "\n",
        "Gesamtübersicht des Codes:\n",
        "Dieser Codeblock fügt die Endschichten zu einem **Convolutional** Neural Network (CNN) hinzu, das auf Klassifizierungsaufgaben trainiert wird.\n",
        "\n",
        "1. Die Ausgabe der Faltungsschichten wird zunächst in einen Vektor umgewandelt,\n",
        "2. bevor sie durch zwei vollständig verbundene Schichten (Dense Layers) geleitet wird.\n",
        "\n",
        "Info: Eine der Schichten hat 256 Neuronen, die mit der ReLU-Aktivierungsfunktion arbeiten, während die letzte Schicht 7 Neuronen mit der Softmax-Aktivierungsfunktion hat, um eine mehrklassenbasierte Wahrscheinlichkeitsverteilung zu berechnen.\n",
        "\n",
        "Es werden Batch-Normalisierung und Dropout verwendet, um den Lernprozess zu stabilisieren und Overfitting zu verhindern.\n"
      ]
    },
    {
      "cell_type": "code",
      "execution_count": null,
      "metadata": {
        "id": "cPbVCV2brNeM",
        "outputId": "b242e46d-8eb3-4ffc-907c-2d39227ffb03"
      },
      "outputs": [
        {
          "name": "stdout",
          "output_type": "stream",
          "text": [
            "Neuronale Faldungsschichten werden sind erfolgreich in verbundene Schichten umgewandelt worden!\n"
          ]
        }
      ],
      "source": [
        "# Flatten the output of the convolutional layers\n",
        "\n",
        "model.add(Flatten())\n",
        "# Add a dense layer with 256 neurons and relu activation function\n",
        "model.add(Dense(256, activation='relu'))\n",
        "# Add a seventh batch normalization layer\n",
        "model.add(BatchNormalization())\n",
        "# Add a dropout layer with 0.5 dropout rate\n",
        "model.add(Dropout(0.5))\n",
        "# Add a dense layer with 7 neurons (one for each class) and softmax activation function\n",
        "model.add(Dense(7, activation='softmax'))\n",
        "\n",
        "print(\"Neuronale Faldungsschichten werden sind erfolgreich in verbundene Schichten umgewandelt worden!\")"
      ]
    },
    {
      "cell_type": "markdown",
      "metadata": {
        "jp-MarkdownHeadingCollapsed": true,
        "id": "hCjP6JdDrNeM"
      },
      "source": [
        "##### Detailierte Erklärung:"
      ]
    },
    {
      "cell_type": "raw",
      "metadata": {
        "id": "xqAbDAH7rNeM"
      },
      "source": [
        "Erklärung:\n",
        "\n",
        "Flatten the output of the convolutional layers:\n",
        "model.add(Flatten())\n",
        "- Funktion: Die Flatten()-Schicht wandelt die mehrdimensionale Ausgabe der Faltungsschichten (Convolutional Layers) in einen eindimensionalen Vektor um. Das ist notwendig, da die nächsten Schichten (Dense Layers) einen eindimensionalen Vektor als Eingabe erwarten.\n",
        "- Beispiel: Wenn die Ausgabe der letzten Faltungsschicht eine Form von (6, 6, 128) hat (6x6 Merkmalskarten mit 128 Kanälen), wird diese in einen Vektor der Länge 4608 umgewandelt (6 * 6 * 128 = 4608).\n",
        "\n",
        "Add a dense layer with 256 neurons and relu activation function:\n",
        "model.add(Dense(256, activation='relu'))\n",
        "- Funktion: Fügt eine vollständig verbundene Schicht (Dense Layer) mit 256 Neuronen hinzu, die\n",
        "            mit der ReLU-Aktivierungsfunktion aktiviert werden. Diese Schicht lernt komplexe Merkmalskombinatione\n",
        "            n auf Basis der Ausgaben der vorherigen Schichten.\n",
        "- ReLU (Rectified Linear Unit) ist eine nichtlineare Aktivierungsfunktion, die dabei hilft,\n",
        "  nichtlineare Beziehungen in den Daten zu modellieren.\n",
        "\n",
        "Add a seventh batch normalization layer:\n",
        "model.add(BatchNormalization())\n",
        "Funktion: Fügt eine Batch-Normalisierungsschicht hinzu, die den Lernprozess stabilisiert,\n",
        "indem sie die Ausgabe der vorherigen Schicht normalisiert. Dies beschleunigt das Training und\n",
        "verbessert die Genauigkeit, indem es verhindert, dass die Werte in den Schichten zu groß oder zu klein werden.\n",
        "\n",
        "Add a dropout layer with 0.5 dropout rate:\n",
        "model.add(Dropout(0.5))\n",
        "Funktion: Die Dropout-Schicht deaktiviert während des Trainings zufällig 50% der Neuronen, um Overfitting zu verhindern.\n",
        "Overfitting tritt auf, wenn das Modell zu stark an den Trainingsdaten \"klebt\" und nicht gut auf neue,\n",
        "unbekannte Daten generalisiert. Die Deaktivierung von Neuronen zwingt das Modell, robuster zu lernen\n",
        "und verbessert die Generalisierungsfähigkeit.\n",
        "\n",
        "Add a dense layer with 7 neurons (one for each class) and softmax activation function:\n",
        "model.add(Dense(7, activation='softmax'))\n",
        "Funktion: Fügt eine vollständig verbundene Schicht mit 7 Neuronen hinzu, da es 7 Klassen gibt (z.B. 7 Emotionen oder Kategorien). Die Softmax-Aktivierungsfunktion wird verwendet, um die Ausgaben in Wahrscheinlichkeiten zu konvertieren. Jede der 7 Ausgaben gibt die Wahrscheinlichkeit an, dass die Eingabe zu dieser Klasse gehört.\n",
        "Softmax sorgt dafür, dass die Summe der Wahrscheinlichkeiten über alle Klassen gleich 1 ist.\n",
        "\n",
        "Gesamtübersicht des Codes:\n",
        "Dieser Codeblock fügt die Endschichten zu einem Convolutional Neural Network (CNN) hinzu,\n",
        "das auf Klassifizierungsaufgaben trainiert wird. Die Ausgabe der Faltungsschichten wird\n",
        "zunächst in einen Vektor umgewandelt, bevor sie durch zwei vollständig verbundene Schichten\n",
        "(Dense Layers) geleitet wird.\n",
        "\n",
        "Eine der Schichten hat 256 Neuronen, die mit der ReLU-Aktivierungsfunktion arbeiten,\n",
        "während die letzte Schicht 7 Neuronen mit der Softmax-Aktivierungsfunktion hat, um eine mehrklassenbasierte Wahrscheinlichkeitsverteilung zu berechnen.\n",
        "\n",
        "Es werden Batch-Normalisierung und Dropout verwendet, um den Lernprozess zu stabilisieren und Overfitting zu verhindern."
      ]
    },
    {
      "cell_type": "markdown",
      "metadata": {
        "id": "L6JhqFYNrNeM"
      },
      "source": [
        "## Modell-Kompilierung mit kategorialem Kreuzentropie-Verlust, Adam-Optimierer und Genauigkeits-Metrik"
      ]
    },
    {
      "cell_type": "markdown",
      "metadata": {
        "id": "3t6yF5TxrNeN"
      },
      "source": [
        "Folgender Code definiert, wie das neuronale Netzwerk trainiert werden soll:\n",
        "\n",
        "- Es verwendet **kategoriale Kreuzentropie als Verlustfunktion**, um das Modell zu trainieren, Wahrscheinlichkeiten für mehrere Klassen korrekt zuzuordnen.\n",
        "- Der **Adam-Optimierer** wird mit einer kleinen Lernrate verwendet, um effizient und stabil zu lernen.\n",
        "Während des Trainings wird die Genauigkeit als Metrik verfolgt, um die Leistung des Modells zu bewerten."
      ]
    },
    {
      "cell_type": "code",
      "execution_count": null,
      "metadata": {
        "id": "NIquVKY1rNeN",
        "outputId": "e7892ca5-6475-4667-c101-105dd145ed6e"
      },
      "outputs": [
        {
          "name": "stdout",
          "output_type": "stream",
          "text": [
            "Neuronales Netzwerkmodell ist erfolgreich kompiliert/ und ready for training!\n"
          ]
        }
      ],
      "source": [
        "# Compile the model with categorical cross-entropy loss, adam optimizer, and accuracy metric\n",
        "model.compile(loss=\"categorical_crossentropy\", optimizer= tf.keras.optimizers.Adam(learning_rate=0.0001), metrics=['accuracy'])\n",
        "\n",
        "print(\"Neuronales Netzwerkmodell ist erfolgreich kompiliert/ und ready for training!\")"
      ]
    },
    {
      "cell_type": "raw",
      "metadata": {
        "id": "vq6N20NzrNeN"
      },
      "source": [
        "Erklärung:\n",
        "\n",
        "Dieser Code block kompiliert das neuronale Netzwerkmodell, d.h., er bereitet es darauf vor, trainiert zu werden.\n",
        "- Kompilieren bedeutet, dass der Trainingsprozess definiert wird, indem der Verlust, der Optimierer und die Metriken festgelegt werden, die während des Trainings verwendet werden.\n",
        "\n",
        "Schritt-für-Schritt-Erklärung:\n",
        "\n",
        "\n",
        "loss=\"categorical_crossentropy\":\n",
        "- Verlustfunktion: Hier wird die kategoriale Kreuzentropie als Verlustfunktion verwendet. Diese Funktion ist geeignet, wenn du ein Mehrklassenklassifizierungsproblem hast, bei dem jede Eingabe nur einer von mehreren Klassen zugeordnet wird. Sie misst den Unterschied zwischen den vorhergesagten Wahrscheinlichkeiten und den tatsächlichen Klassen.\n",
        "- Kreuzentropie sorgt dafür, dass das Modell lernt, die vorhergesagten Wahrscheinlichkeiten den tatsächlichen Klassen anzunähern.\n",
        "\n",
        "\n",
        "optimizer=tf.keras.optimizers.Adam(lr=0.0001):\n",
        "- Adam-Optimierer: Der Adam-Optimierer ist eine erweiterte Version des Gradient-Descent-Optimierers, der die Lernrate adaptiv anpasst und dabei effizient und schnell konvergiert.\n",
        "- lr=0.0001: Dies legt die Lernrate des Adam-Optimierers fest, die bestimmt, wie groß die Schritte sind, die das Modell bei jedem Update der Gewichte macht. Eine Lernrate von 0.0001 ist eine relativ kleine Lernrate, was bedeutet, dass das Modell langsam lernt, was nützlich sein kann, um ein Überanpassen (Overfitting) zu vermeiden.\n",
        "\n",
        "\n",
        "metrics=['accuracy']:\n",
        "- Metrik: Hier wird accuracy (Genauigkeit) als Metrik verwendet. Das bedeutet, dass während des Trainings und der Evaluierung die Genauigkeit des Modells, d.h. der Anteil der korrekt klassifizierten Beispiele, gemessen wird.\n",
        "- Diese Metrik hilft zu verstehen, wie gut das Modell auf den Trainings- oder Testdaten performt.\n"
      ]
    },
    {
      "cell_type": "markdown",
      "metadata": {
        "id": "hJdTEo7-rNeN"
      },
      "source": [
        "### Callbacks"
      ]
    },
    {
      "cell_type": "markdown",
      "metadata": {
        "id": "y7_akz_grNeN"
      },
      "source": [
        "Jetzt erstmal \"epochs=1\"  eigentlich sollte es 50 Epochen durchlaufen werden!"
      ]
    },
    {
      "cell_type": "code",
      "execution_count": null,
      "metadata": {
        "id": "4ep_w99vrNeO",
        "outputId": "9fe25bd7-f929-4289-de41-1267047dbab6"
      },
      "outputs": [
        {
          "name": "stderr",
          "output_type": "stream",
          "text": [
            "C:\\Users\\flori\\AppData\\Roaming\\Python\\Python312\\site-packages\\keras\\src\\trainers\\data_adapters\\py_dataset_adapter.py:121: UserWarning: Your `PyDataset` class should call `super().__init__(**kwargs)` in its constructor. `**kwargs` can include `workers`, `use_multiprocessing`, `max_queue_size`. Do not pass these arguments to `fit()`, as they will be ignored.\n",
            "  self._warn_if_super_not_called()\n"
          ]
        },
        {
          "name": "stdout",
          "output_type": "stream",
          "text": [
            "\u001b[1m359/359\u001b[0m \u001b[32m━━━━━━━━━━━━━━━━━━━━\u001b[0m\u001b[37m\u001b[0m \u001b[1m0s\u001b[0m 1s/step - accuracy: 0.1739 - loss: 2.9780"
          ]
        },
        {
          "name": "stderr",
          "output_type": "stream",
          "text": [
            "C:\\Users\\flori\\AppData\\Roaming\\Python\\Python312\\site-packages\\keras\\src\\trainers\\data_adapters\\py_dataset_adapter.py:121: UserWarning: Your `PyDataset` class should call `super().__init__(**kwargs)` in its constructor. `**kwargs` can include `workers`, `use_multiprocessing`, `max_queue_size`. Do not pass these arguments to `fit()`, as they will be ignored.\n",
            "  self._warn_if_super_not_called()\n"
          ]
        },
        {
          "name": "stdout",
          "output_type": "stream",
          "text": [
            "\n",
            "Epoch 1: val_accuracy improved from -inf to 0.14665, saving model to model_weights.weights.h5\n",
            "\u001b[1m359/359\u001b[0m \u001b[32m━━━━━━━━━━━━━━━━━━━━\u001b[0m\u001b[37m\u001b[0m \u001b[1m533s\u001b[0m 1s/step - accuracy: 0.1740 - loss: 2.9776 - val_accuracy: 0.1466 - val_loss: 2.1050\n"
          ]
        }
      ],
      "source": [
        "from tensorflow.keras.callbacks import ModelCheckpoint\n",
        "\n",
        "# Define the callback\n",
        "checkpoint_callback = ModelCheckpoint(\n",
        "    filepath='model_weights.weights.h5',\n",
        "    monitor='val_accuracy',\n",
        "    save_best_only=True,\n",
        "    save_weights_only=True,\n",
        "    mode='max',\n",
        "    verbose=1\n",
        ")\n",
        "\n",
        "# Train the model with the callback\n",
        "history = model.fit(\n",
        "    train_generator,\n",
        "    steps_per_epoch=len(train_generator),\n",
        "    epochs=1,   # Hier sollen 50 Epochen durchlaufen werden\n",
        "    validation_data=validation_generator,\n",
        "    validation_steps=len(validation_generator),\n",
        "    callbacks=[checkpoint_callback]\n",
        ")"
      ]
    },
    {
      "cell_type": "markdown",
      "metadata": {
        "id": "VWpDrjGZrNeV"
      },
      "source": [
        "# Training --> Then Evaluation --> Then Validation and loss curves"
      ]
    },
    {
      "cell_type": "markdown",
      "metadata": {
        "id": "N54sgVzTrNeV"
      },
      "source": [
        "## Training and validation loss curves"
      ]
    },
    {
      "cell_type": "code",
      "execution_count": 4,
      "metadata": {
        "id": "q7IUV73nrNeV",
        "outputId": "3c65b09d-e59c-4df9-b2dc-50bd4edf7369",
        "colab": {
          "base_uri": "https://localhost:8080/",
          "height": 219
        }
      },
      "outputs": [
        {
          "output_type": "error",
          "ename": "NameError",
          "evalue": "name 'history' is not defined",
          "traceback": [
            "\u001b[0;31m---------------------------------------------------------------------------\u001b[0m",
            "\u001b[0;31mNameError\u001b[0m                                 Traceback (most recent call last)",
            "\u001b[0;32m<ipython-input-4-20290e61abcb>\u001b[0m in \u001b[0;36m<cell line: 4>\u001b[0;34m()\u001b[0m\n\u001b[1;32m      2\u001b[0m \u001b[0;32mimport\u001b[0m \u001b[0mmatplotlib\u001b[0m\u001b[0;34m.\u001b[0m\u001b[0mpyplot\u001b[0m \u001b[0;32mas\u001b[0m \u001b[0mplt\u001b[0m\u001b[0;34m\u001b[0m\u001b[0;34m\u001b[0m\u001b[0m\n\u001b[1;32m      3\u001b[0m \u001b[0;34m\u001b[0m\u001b[0m\n\u001b[0;32m----> 4\u001b[0;31m \u001b[0mtrain_loss\u001b[0m \u001b[0;34m=\u001b[0m \u001b[0mhistory\u001b[0m\u001b[0;34m.\u001b[0m\u001b[0mhistory\u001b[0m\u001b[0;34m[\u001b[0m\u001b[0;34m'loss'\u001b[0m\u001b[0;34m]\u001b[0m\u001b[0;34m\u001b[0m\u001b[0;34m\u001b[0m\u001b[0m\n\u001b[0m\u001b[1;32m      5\u001b[0m \u001b[0mval_loss\u001b[0m \u001b[0;34m=\u001b[0m \u001b[0mhistory\u001b[0m\u001b[0;34m.\u001b[0m\u001b[0mhistory\u001b[0m\u001b[0;34m[\u001b[0m\u001b[0;34m'val_loss'\u001b[0m\u001b[0;34m]\u001b[0m\u001b[0;34m\u001b[0m\u001b[0;34m\u001b[0m\u001b[0m\n\u001b[1;32m      6\u001b[0m \u001b[0mepochs\u001b[0m \u001b[0;34m=\u001b[0m \u001b[0mrange\u001b[0m\u001b[0;34m(\u001b[0m\u001b[0;36m1\u001b[0m\u001b[0;34m,\u001b[0m \u001b[0mlen\u001b[0m\u001b[0;34m(\u001b[0m\u001b[0mtrain_loss\u001b[0m\u001b[0;34m)\u001b[0m \u001b[0;34m+\u001b[0m \u001b[0;36m1\u001b[0m\u001b[0;34m)\u001b[0m\u001b[0;34m\u001b[0m\u001b[0;34m\u001b[0m\u001b[0m\n",
            "\u001b[0;31mNameError\u001b[0m: name 'history' is not defined"
          ]
        }
      ],
      "source": [
        "# Plot the train and validation loss\n",
        "import matplotlib.pyplot as plt\n",
        "\n",
        "train_loss = history.history['loss']\n",
        "val_loss = history.history['val_loss']\n",
        "epochs = range(1, len(train_loss) + 1)\n",
        "plt.plot(epochs, train_loss, 'bo', label='Training loss')\n",
        "plt.plot(epochs, val_loss, 'b', label='Validation loss')\n",
        "plt.title('Training and validation loss')\n",
        "plt.xlabel('Epochs')\n",
        "plt.ylabel('Loss')\n",
        "plt.legend()\n",
        "plt.show()"
      ]
    },
    {
      "cell_type": "markdown",
      "metadata": {
        "id": "n_8G0zpBrNeW"
      },
      "source": [
        "## Training and validation accuracy curves"
      ]
    },
    {
      "cell_type": "code",
      "execution_count": 5,
      "metadata": {
        "id": "cUalimkIrNeW",
        "outputId": "7d7c86d5-7ebd-48ab-9107-2ae4eb1dbdba",
        "colab": {
          "base_uri": "https://localhost:8080/",
          "height": 219
        }
      },
      "outputs": [
        {
          "output_type": "error",
          "ename": "NameError",
          "evalue": "name 'history' is not defined",
          "traceback": [
            "\u001b[0;31m---------------------------------------------------------------------------\u001b[0m",
            "\u001b[0;31mNameError\u001b[0m                                 Traceback (most recent call last)",
            "\u001b[0;32m<ipython-input-5-c0fd4495a0d8>\u001b[0m in \u001b[0;36m<cell line: 2>\u001b[0;34m()\u001b[0m\n\u001b[1;32m      1\u001b[0m \u001b[0;31m# Plot the train and validation accuracy\u001b[0m\u001b[0;34m\u001b[0m\u001b[0;34m\u001b[0m\u001b[0m\n\u001b[0;32m----> 2\u001b[0;31m \u001b[0mtrain_acc\u001b[0m \u001b[0;34m=\u001b[0m \u001b[0mhistory\u001b[0m\u001b[0;34m.\u001b[0m\u001b[0mhistory\u001b[0m\u001b[0;34m[\u001b[0m\u001b[0;34m'accuracy'\u001b[0m\u001b[0;34m]\u001b[0m\u001b[0;34m\u001b[0m\u001b[0;34m\u001b[0m\u001b[0m\n\u001b[0m\u001b[1;32m      3\u001b[0m \u001b[0mval_acc\u001b[0m \u001b[0;34m=\u001b[0m \u001b[0mhistory\u001b[0m\u001b[0;34m.\u001b[0m\u001b[0mhistory\u001b[0m\u001b[0;34m[\u001b[0m\u001b[0;34m'val_accuracy'\u001b[0m\u001b[0;34m]\u001b[0m\u001b[0;34m\u001b[0m\u001b[0;34m\u001b[0m\u001b[0m\n\u001b[1;32m      4\u001b[0m \u001b[0mplt\u001b[0m\u001b[0;34m.\u001b[0m\u001b[0mplot\u001b[0m\u001b[0;34m(\u001b[0m\u001b[0mepochs\u001b[0m\u001b[0;34m,\u001b[0m \u001b[0mtrain_acc\u001b[0m\u001b[0;34m,\u001b[0m \u001b[0;34m'bo'\u001b[0m\u001b[0;34m,\u001b[0m \u001b[0mlabel\u001b[0m\u001b[0;34m=\u001b[0m\u001b[0;34m'Training accuracy'\u001b[0m\u001b[0;34m)\u001b[0m\u001b[0;34m\u001b[0m\u001b[0;34m\u001b[0m\u001b[0m\n\u001b[1;32m      5\u001b[0m \u001b[0mplt\u001b[0m\u001b[0;34m.\u001b[0m\u001b[0mplot\u001b[0m\u001b[0;34m(\u001b[0m\u001b[0mepochs\u001b[0m\u001b[0;34m,\u001b[0m \u001b[0mval_acc\u001b[0m\u001b[0;34m,\u001b[0m \u001b[0;34m'b'\u001b[0m\u001b[0;34m,\u001b[0m \u001b[0mlabel\u001b[0m\u001b[0;34m=\u001b[0m\u001b[0;34m'Validation accuracy'\u001b[0m\u001b[0;34m)\u001b[0m\u001b[0;34m\u001b[0m\u001b[0;34m\u001b[0m\u001b[0m\n",
            "\u001b[0;31mNameError\u001b[0m: name 'history' is not defined"
          ]
        }
      ],
      "source": [
        "# Plot the train and validation accuracy\n",
        "train_acc = history.history['accuracy']\n",
        "val_acc = history.history['val_accuracy']\n",
        "plt.plot(epochs, train_acc, 'bo', label='Training accuracy')\n",
        "plt.plot(epochs, val_acc, 'b', label='Validation accuracy')\n",
        "plt.title('Training and validation accuracy')\n",
        "plt.xlabel('Epochs')\n",
        "plt.ylabel('Accuracy')\n",
        "plt.legend()\n",
        "plt.show()"
      ]
    },
    {
      "cell_type": "markdown",
      "metadata": {
        "id": "9SDREEFQrNeX"
      },
      "source": [
        "## Confusion Matrix"
      ]
    },
    {
      "cell_type": "code",
      "execution_count": null,
      "metadata": {
        "id": "Bqb90gd6rNeX"
      },
      "outputs": [],
      "source": [
        "!pip install scikit-learn"
      ]
    },
    {
      "cell_type": "code",
      "execution_count": null,
      "metadata": {
        "id": "fUqmgNdArNeX"
      },
      "outputs": [],
      "source": [
        "import seaborn as sns\n",
        "import numpy as np\n",
        "from sklearn.metrics import confusion_matrix\n",
        "\n",
        "# Get the true labels and predicted labels for the validation set\n",
        "validation_labels = validation_generator.classes\n",
        "validation_pred_probs = model.predict(validation_generator)\n",
        "validation_pred_labels = np.argmax(validation_pred_probs, axis=1)\n",
        "\n",
        "# Compute the confusion matrix\n",
        "confusion_mtx = confusion_matrix(validation_labels, validation_pred_labels)\n",
        "class_names = list(train_generator.class_indices.keys())\n",
        "sns.set()\n",
        "sns.heatmap(confusion_mtx, annot=True, fmt='d', cmap='YlGnBu',\n",
        "            xticklabels=class_names, yticklabels=class_names)\n",
        "plt.xlabel('Predicted Label')\n",
        "plt.ylabel('True Label')\n",
        "plt.title('Confusion Matrix')\n",
        "plt.show()"
      ]
    },
    {
      "cell_type": "code",
      "execution_count": null,
      "metadata": {
        "id": "NPP_dId-rNeY"
      },
      "outputs": [],
      "source": []
    },
    {
      "cell_type": "code",
      "execution_count": null,
      "metadata": {
        "id": "Z8udjAn7rNeY"
      },
      "outputs": [],
      "source": []
    }
  ],
  "metadata": {
    "kernelspec": {
      "display_name": "Python 3",
      "name": "python3"
    },
    "language_info": {
      "codemirror_mode": {
        "name": "ipython",
        "version": 3
      },
      "file_extension": ".py",
      "mimetype": "text/x-python",
      "name": "python",
      "nbconvert_exporter": "python",
      "pygments_lexer": "ipython3",
      "version": "3.12.7"
    },
    "colab": {
      "provenance": [],
      "toc_visible": true,
      "include_colab_link": true
    }
  },
  "nbformat": 4,
  "nbformat_minor": 0
}